{
 "cells": [
  {
   "cell_type": "markdown",
   "id": "f1e90966",
   "metadata": {},
   "source": [
    "Question No 1: Write a program to iterate the first 10 numbers, and in each iteration, print the sum of the current and previous number."
   ]
  },
  {
   "cell_type": "code",
   "execution_count": 43,
   "id": "5a5bf136",
   "metadata": {},
   "outputs": [
    {
     "name": "stdout",
     "output_type": "stream",
     "text": [
      "0\n",
      "1\n",
      "3\n",
      "5\n",
      "7\n",
      "9\n",
      "11\n",
      "13\n",
      "15\n",
      "17\n"
     ]
    }
   ],
   "source": [
    "\n",
    "previous = 0\n",
    "for current in range(10):\n",
    "    total = current + previous \n",
    "    previous = current \n",
    "    print(total)"
   ]
  },
  {
   "cell_type": "raw",
   "id": "1b858ec2",
   "metadata": {},
   "source": [
    "Question no 2:  Print the following pattern\n",
    "1\n",
    "2 2\n",
    "3 3 3\n",
    "4 4 4 4\n",
    "5 5 5 5 5"
   ]
  },
  {
   "cell_type": "code",
   "execution_count": 53,
   "id": "3ab5b2fc",
   "metadata": {},
   "outputs": [
    {
     "name": "stdout",
     "output_type": "stream",
     "text": [
      "\n",
      "\n",
      "1 \n",
      "\n",
      "2 2 \n",
      "\n",
      "3 3 3 \n",
      "\n",
      "4 4 4 4 \n",
      "\n",
      "5 5 5 5 5 \n",
      "\n"
     ]
    }
   ],
   "source": [
    "for i in range(6):\n",
    "    \n",
    "    for j in range(1,i+1):\n",
    "        print(i,end=\" \" )\n",
    "    print(\"\\n\")     "
   ]
  },
  {
   "cell_type": "markdown",
   "id": "089093c4",
   "metadata": {},
   "source": [
    "Question No 3:  List is given below:\n",
    "\n",
    "numbers = [12, 75, 150, 180, 145, 525, 50]\n",
    "\n",
    "Write a program to display only those numbers from a list that satisfy the following\n",
    "conditions\n",
    "i. The number must be divisible by five\n",
    "ii. If the number is greater than 150, then skip it and move to the next number\n",
    "iii. If the number is greater than 500, then stop the loop\n"
   ]
  },
  {
   "cell_type": "code",
   "execution_count": 59,
   "id": "2804866f",
   "metadata": {},
   "outputs": [
    {
     "name": "stdout",
     "output_type": "stream",
     "text": [
      "75\n",
      "150\n",
      "145\n"
     ]
    }
   ],
   "source": [
    "numbers = [12, 75, 150, 180, 145, 525, 50]\n",
    "\n",
    "for i in range(len(numbers)):  \n",
    "\n",
    "    if numbers[i] > 500:\n",
    "        break\n",
    "    elif numbers[i] > 150:\n",
    "        continue\n",
    "    elif numbers[i] % 5 == 0:\n",
    "        print(numbers[i])"
   ]
  },
  {
   "cell_type": "raw",
   "id": "62d6a326",
   "metadata": {},
   "source": [
    "Question no 4:  Display Fibonacci series up to 10 terms\n",
    "The Fibonacci Sequence is a series of numbers. The next number is found by adding\n",
    "up the two numbers before it. The first two numbers are 0 and 1.\n",
    "For example, 0, 1, 1, 2, 3, 5, 8, 13, 21. The next number in this series above is\n",
    "13+21 = 34."
   ]
  },
  {
   "cell_type": "code",
   "execution_count": 64,
   "id": "c8d4ff32",
   "metadata": {},
   "outputs": [
    {
     "name": "stdout",
     "output_type": "stream",
     "text": [
      "0 ,1 ,1 ,2 ,3 ,5 ,8 ,13 ,21 ,34 ,55 ,"
     ]
    }
   ],
   "source": [
    "a =0\n",
    "b=1\n",
    "for i in range(11):\n",
    "    if i<=1:\n",
    "        print(i,end=\" ,\")\n",
    "    else:\n",
    "        c=a+b\n",
    "        a=b\n",
    "        b= c\n",
    "        print(c,end=\" ,\")"
   ]
  },
  {
   "cell_type": "raw",
   "id": "824921c9",
   "metadata": {},
   "source": [
    "Question no 5: Write a program to use the loop to find the factorial of a given number.\n",
    "The factorial (symbol: !) means to multiply all whole numbers from the chosen number\n",
    "down to 1.\n",
    "For example: calculate the factorial of 5\n",
    "5! = 5 × 4 × 3 × 2 × 1 = 120\n"
   ]
  },
  {
   "cell_type": "code",
   "execution_count": 68,
   "id": "997caf35",
   "metadata": {},
   "outputs": [
    {
     "name": "stdout",
     "output_type": "stream",
     "text": [
      "enter number you want factorial of 0\n",
      "1\n"
     ]
    }
   ],
   "source": [
    "a= int(input(\"enter number you want factorial of \"))\n",
    "b=1\n",
    "for  i in range(1,a+1):\n",
    "    if i==0:\n",
    "        print(i)\n",
    "    else:\n",
    "        b=b*i        \n",
    "print(b)        "
   ]
  },
  {
   "cell_type": "raw",
   "id": "41088578",
   "metadata": {},
   "source": [
    "Question no 6: . Write a program to iterate a given list and count the occurrence of each element and\n",
    "print to show the count of each element.\n",
    "sample_list = [11, 45, 8, 11, 23, 45, 23, 45, 89]\n",
    "Expected Output:\n",
    "Printing count of each item 11: 2, 45: 3, 8: 1, 23: 2, 89: 1"
   ]
  },
  {
   "cell_type": "code",
   "execution_count": 72,
   "id": "157474ca",
   "metadata": {},
   "outputs": [
    {
     "name": "stdout",
     "output_type": "stream",
     "text": [
      "11: 2 , 45: 3 , 8: 1 , 23: 2 , 89: 1 , "
     ]
    }
   ],
   "source": [
    "sample_list = [11, 45, 8, 11, 23, 45, 23, 45, 89]\n",
    "\n",
    "element_counts = {}\n",
    "\n",
    "for element in sample_list:\n",
    "    element_counts[element] = element_counts.get(element, 0) + 1\n",
    "\n",
    "\n",
    "for element, count in element_counts.items():\n",
    "    print( f\"{element}: {count}\",end=\" , \")\n",
    "\n",
    "        \n"
   ]
  },
  {
   "cell_type": "markdown",
   "id": "2d152948",
   "metadata": {},
   "source": [
    "7. Given two lists, l1 and l2, write a program to create a third list l3 by picking an\n",
    "odd-index element from the list l1 and even index elements from the list l2.\n",
    "Given:\n",
    "l1 = [3, 6, 9, 12, 15, 18, 21]\n",
    "l2 = [4, 8, 12, 16, 20, 24, 28]\n"
   ]
  },
  {
   "cell_type": "code",
   "execution_count": 77,
   "id": "dc132066",
   "metadata": {},
   "outputs": [
    {
     "name": "stdout",
     "output_type": "stream",
     "text": [
      "4 6 12 12 20 18 28 "
     ]
    }
   ],
   "source": [
    "list1 = [3, 6, 9, 12, 15, 18, 21]\n",
    "list2 = [4, 8, 12, 16, 20, 24, 28]\n",
    "list3 = list()\n",
    "for i in range(len(list1)):\n",
    "    if i%2==1:\n",
    "        list3.append(list1[i])\n",
    "    elif i%2==0:\n",
    "        list3.append(list2[i])\n",
    "        \n",
    "for i in range(len(list3)):\n",
    "    print(list3[i],end=\" \")\n"
   ]
  },
  {
   "cell_type": "code",
   "execution_count": null,
   "id": "cd1e7f25",
   "metadata": {},
   "outputs": [],
   "source": []
  },
  {
   "cell_type": "code",
   "execution_count": null,
   "id": "3db15481",
   "metadata": {},
   "outputs": [],
   "source": []
  }
 ],
 "metadata": {
  "kernelspec": {
   "display_name": "Python 3 (ipykernel)",
   "language": "python",
   "name": "python3"
  },
  "language_info": {
   "codemirror_mode": {
    "name": "ipython",
    "version": 3
   },
   "file_extension": ".py",
   "mimetype": "text/x-python",
   "name": "python",
   "nbconvert_exporter": "python",
   "pygments_lexer": "ipython3",
   "version": "3.11.5"
  }
 },
 "nbformat": 4,
 "nbformat_minor": 5
}

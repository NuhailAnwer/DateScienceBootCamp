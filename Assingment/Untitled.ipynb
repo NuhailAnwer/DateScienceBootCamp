{
 "cells": [
  {
   "cell_type": "code",
   "execution_count": 7,
   "id": "059e8b6f",
   "metadata": {},
   "outputs": [
    {
     "name": "stdout",
     "output_type": "stream",
     "text": [
      "10\n",
      "{'30', '20'}\n"
     ]
    }
   ],
   "source": [
    "set1 ={'20','30','10'}\n",
    "a = input()\n",
    "for i in set1:\n",
    "    if i == a:\n",
    "        a=i\n",
    "    \n",
    "set1.remove(a)\n",
    "print(set1)"
   ]
  },
  {
   "cell_type": "code",
   "execution_count": 10,
   "id": "1090ad97",
   "metadata": {},
   "outputs": [
    {
     "name": "stdout",
     "output_type": "stream",
     "text": [
      "10\n"
     ]
    }
   ],
   "source": [
    "set1 ={'20','30','10'}\n",
    "set2 ={'40','80','10'}\n",
    "for i in set1:\n",
    "    for j in set2:\n",
    "        if i==j:\n",
    "            a=j\n",
    "            \n",
    "print(a)\n"
   ]
  },
  {
   "cell_type": "code",
   "execution_count": null,
   "id": "242e8925",
   "metadata": {},
   "outputs": [],
   "source": []
  },
  {
   "cell_type": "code",
   "execution_count": null,
   "id": "99bcfafc",
   "metadata": {},
   "outputs": [],
   "source": []
  },
  {
   "cell_type": "code",
   "execution_count": null,
   "id": "cf744736",
   "metadata": {},
   "outputs": [],
   "source": []
  }
 ],
 "metadata": {
  "kernelspec": {
   "display_name": "Python 3 (ipykernel)",
   "language": "python",
   "name": "python3"
  },
  "language_info": {
   "codemirror_mode": {
    "name": "ipython",
    "version": 3
   },
   "file_extension": ".py",
   "mimetype": "text/x-python",
   "name": "python",
   "nbconvert_exporter": "python",
   "pygments_lexer": "ipython3",
   "version": "3.11.5"
  }
 },
 "nbformat": 4,
 "nbformat_minor": 5
}
